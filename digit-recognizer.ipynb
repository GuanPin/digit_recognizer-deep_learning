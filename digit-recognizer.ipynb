{
 "cells": [
  {
   "cell_type": "code",
   "execution_count": 1,
   "metadata": {},
   "outputs": [],
   "source": [
    "import numpy as np\n",
    "import pandas as pd\n",
    "import matplotlib.pyplot as plt\n",
    "import seaborn as sns\n",
    "from sklearn.model_selection import train_test_split\n",
    "from sklearn.feature_extraction import DictVectorizer\n",
    "import keras\n",
    "from keras.models import Sequential\n",
    "from keras.layers.core import Dense, Dropout, Activation\n",
    "from keras.layers import Conv2D, MaxPooling2D, Flatten\n",
    "from keras.optimizers import SGD, Adam\n",
    "from keras.utils import np_utils\n",
    "from keras.datasets import mnist"
   ]
  },
  {
   "cell_type": "code",
   "execution_count": 2,
   "metadata": {},
   "outputs": [],
   "source": [
    "#load data\n",
    "df_train = pd.read_csv('C:/Users/user/workspace/data/digit-recognizer/train.csv')\n",
    "df_test = pd.read_csv('C:/Users/user/workspace/data/digit-recognizer/test.csv')"
   ]
  },
  {
   "cell_type": "code",
   "execution_count": 3,
   "metadata": {
    "scrolled": true
   },
   "outputs": [
    {
     "name": "stdout",
     "output_type": "stream",
     "text": [
      "<class 'pandas.core.frame.DataFrame'> \t <class 'pandas.core.frame.DataFrame'>\n",
      "(42000, 785) \t (28000, 784)\n"
     ]
    },
    {
     "data": {
      "text/html": [
       "<div>\n",
       "<style scoped>\n",
       "    .dataframe tbody tr th:only-of-type {\n",
       "        vertical-align: middle;\n",
       "    }\n",
       "\n",
       "    .dataframe tbody tr th {\n",
       "        vertical-align: top;\n",
       "    }\n",
       "\n",
       "    .dataframe thead th {\n",
       "        text-align: right;\n",
       "    }\n",
       "</style>\n",
       "<table border=\"1\" class=\"dataframe\">\n",
       "  <thead>\n",
       "    <tr style=\"text-align: right;\">\n",
       "      <th></th>\n",
       "      <th>label</th>\n",
       "      <th>pixel0</th>\n",
       "      <th>pixel1</th>\n",
       "      <th>pixel2</th>\n",
       "      <th>pixel3</th>\n",
       "      <th>pixel4</th>\n",
       "      <th>pixel5</th>\n",
       "      <th>pixel6</th>\n",
       "      <th>pixel7</th>\n",
       "      <th>pixel8</th>\n",
       "      <th>...</th>\n",
       "      <th>pixel774</th>\n",
       "      <th>pixel775</th>\n",
       "      <th>pixel776</th>\n",
       "      <th>pixel777</th>\n",
       "      <th>pixel778</th>\n",
       "      <th>pixel779</th>\n",
       "      <th>pixel780</th>\n",
       "      <th>pixel781</th>\n",
       "      <th>pixel782</th>\n",
       "      <th>pixel783</th>\n",
       "    </tr>\n",
       "  </thead>\n",
       "  <tbody>\n",
       "    <tr>\n",
       "      <th>0</th>\n",
       "      <td>1</td>\n",
       "      <td>0</td>\n",
       "      <td>0</td>\n",
       "      <td>0</td>\n",
       "      <td>0</td>\n",
       "      <td>0</td>\n",
       "      <td>0</td>\n",
       "      <td>0</td>\n",
       "      <td>0</td>\n",
       "      <td>0</td>\n",
       "      <td>...</td>\n",
       "      <td>0</td>\n",
       "      <td>0</td>\n",
       "      <td>0</td>\n",
       "      <td>0</td>\n",
       "      <td>0</td>\n",
       "      <td>0</td>\n",
       "      <td>0</td>\n",
       "      <td>0</td>\n",
       "      <td>0</td>\n",
       "      <td>0</td>\n",
       "    </tr>\n",
       "    <tr>\n",
       "      <th>1</th>\n",
       "      <td>0</td>\n",
       "      <td>0</td>\n",
       "      <td>0</td>\n",
       "      <td>0</td>\n",
       "      <td>0</td>\n",
       "      <td>0</td>\n",
       "      <td>0</td>\n",
       "      <td>0</td>\n",
       "      <td>0</td>\n",
       "      <td>0</td>\n",
       "      <td>...</td>\n",
       "      <td>0</td>\n",
       "      <td>0</td>\n",
       "      <td>0</td>\n",
       "      <td>0</td>\n",
       "      <td>0</td>\n",
       "      <td>0</td>\n",
       "      <td>0</td>\n",
       "      <td>0</td>\n",
       "      <td>0</td>\n",
       "      <td>0</td>\n",
       "    </tr>\n",
       "    <tr>\n",
       "      <th>2</th>\n",
       "      <td>1</td>\n",
       "      <td>0</td>\n",
       "      <td>0</td>\n",
       "      <td>0</td>\n",
       "      <td>0</td>\n",
       "      <td>0</td>\n",
       "      <td>0</td>\n",
       "      <td>0</td>\n",
       "      <td>0</td>\n",
       "      <td>0</td>\n",
       "      <td>...</td>\n",
       "      <td>0</td>\n",
       "      <td>0</td>\n",
       "      <td>0</td>\n",
       "      <td>0</td>\n",
       "      <td>0</td>\n",
       "      <td>0</td>\n",
       "      <td>0</td>\n",
       "      <td>0</td>\n",
       "      <td>0</td>\n",
       "      <td>0</td>\n",
       "    </tr>\n",
       "    <tr>\n",
       "      <th>3</th>\n",
       "      <td>4</td>\n",
       "      <td>0</td>\n",
       "      <td>0</td>\n",
       "      <td>0</td>\n",
       "      <td>0</td>\n",
       "      <td>0</td>\n",
       "      <td>0</td>\n",
       "      <td>0</td>\n",
       "      <td>0</td>\n",
       "      <td>0</td>\n",
       "      <td>...</td>\n",
       "      <td>0</td>\n",
       "      <td>0</td>\n",
       "      <td>0</td>\n",
       "      <td>0</td>\n",
       "      <td>0</td>\n",
       "      <td>0</td>\n",
       "      <td>0</td>\n",
       "      <td>0</td>\n",
       "      <td>0</td>\n",
       "      <td>0</td>\n",
       "    </tr>\n",
       "    <tr>\n",
       "      <th>4</th>\n",
       "      <td>0</td>\n",
       "      <td>0</td>\n",
       "      <td>0</td>\n",
       "      <td>0</td>\n",
       "      <td>0</td>\n",
       "      <td>0</td>\n",
       "      <td>0</td>\n",
       "      <td>0</td>\n",
       "      <td>0</td>\n",
       "      <td>0</td>\n",
       "      <td>...</td>\n",
       "      <td>0</td>\n",
       "      <td>0</td>\n",
       "      <td>0</td>\n",
       "      <td>0</td>\n",
       "      <td>0</td>\n",
       "      <td>0</td>\n",
       "      <td>0</td>\n",
       "      <td>0</td>\n",
       "      <td>0</td>\n",
       "      <td>0</td>\n",
       "    </tr>\n",
       "  </tbody>\n",
       "</table>\n",
       "<p>5 rows × 785 columns</p>\n",
       "</div>"
      ],
      "text/plain": [
       "   label  pixel0  pixel1  pixel2  pixel3  pixel4  pixel5  pixel6  pixel7  \\\n",
       "0      1       0       0       0       0       0       0       0       0   \n",
       "1      0       0       0       0       0       0       0       0       0   \n",
       "2      1       0       0       0       0       0       0       0       0   \n",
       "3      4       0       0       0       0       0       0       0       0   \n",
       "4      0       0       0       0       0       0       0       0       0   \n",
       "\n",
       "   pixel8  ...  pixel774  pixel775  pixel776  pixel777  pixel778  pixel779  \\\n",
       "0       0  ...         0         0         0         0         0         0   \n",
       "1       0  ...         0         0         0         0         0         0   \n",
       "2       0  ...         0         0         0         0         0         0   \n",
       "3       0  ...         0         0         0         0         0         0   \n",
       "4       0  ...         0         0         0         0         0         0   \n",
       "\n",
       "   pixel780  pixel781  pixel782  pixel783  \n",
       "0         0         0         0         0  \n",
       "1         0         0         0         0  \n",
       "2         0         0         0         0  \n",
       "3         0         0         0         0  \n",
       "4         0         0         0         0  \n",
       "\n",
       "[5 rows x 785 columns]"
      ]
     },
     "execution_count": 3,
     "metadata": {},
     "output_type": "execute_result"
    }
   ],
   "source": [
    "print(type(df_train), '\\t', type(df_test))\n",
    "print(df_train.shape, '\\t', df_test.shape)\n",
    "df_train.head(5)"
   ]
  },
  {
   "cell_type": "code",
   "execution_count": 4,
   "metadata": {},
   "outputs": [],
   "source": [
    "x=df_train.drop(['label'], axis='columns')\n",
    "y=df_train['label']\n",
    "#df_train.head(5)"
   ]
  },
  {
   "cell_type": "code",
   "execution_count": 5,
   "metadata": {},
   "outputs": [
    {
     "data": {
      "image/png": "[encoded data removed]",
      "text/plain": [
       "<Figure size 864x432 with 1 Axes>"
      ]
     },
     "metadata": {
      "needs_background": "light"
     },
     "output_type": "display_data"
    }
   ],
   "source": [
    "#data visualization: number counts\n",
    "plt.figure(figsize=(12,6))\n",
    "ax=sns.countplot(x='label', data=df_train, palette='flare')\n",
    "plt.xlabel('label', fontsize=15)\n",
    "plt.ylabel('counts', fontsize=15)\n",
    "#sns.countplot(x=y)\n",
    "plt.title('label counts', fontsize=15)\n",
    "for p in ax.patches:\n",
    "        ax.annotate('{:d}'.format(p.get_height()), (p.get_x()+0.13, p.get_height()+50), fontsize=14)\n",
    "plt.show()"
   ]
  },
  {
   "cell_type": "code",
   "execution_count": 6,
   "metadata": {},
   "outputs": [
    {
     "data": {
      "text/plain": [
       "(array([], dtype=int64), array([], dtype=int64))"
      ]
     },
     "execution_count": 6,
     "metadata": {},
     "output_type": "execute_result"
    }
   ],
   "source": [
    "#check missing value\n",
    "np.where(np.isnan(df_train)) #no missing value"
   ]
  },
  {
   "cell_type": "code",
   "execution_count": 7,
   "metadata": {},
   "outputs": [
    {
     "data": {
      "image/png": "[encoded data removed]",
      "text/plain": [
       "<Figure size 576x432 with 1 Axes>"
      ]
     },
     "metadata": {
      "needs_background": "light"
     },
     "output_type": "display_data"
    }
   ],
   "source": [
    "# plot sample\n",
    "plt.figure(figsize=(8,6))\n",
    "img = x.iloc[42000-1].to_numpy()\n",
    "img = img.reshape((28,28))\n",
    "plt.imshow(img,cmap='gray')\n",
    "plt.title(df_train.iloc[42000-1,0])\n",
    "plt.grid()\n",
    "plt.show()"
   ]
  },
  {
   "cell_type": "code",
   "execution_count": 8,
   "metadata": {
    "scrolled": true
   },
   "outputs": [
    {
     "name": "stdout",
     "output_type": "stream",
     "text": [
      "(33600, 784) (8400, 784)\n"
     ]
    }
   ],
   "source": [
    "#transfer dataframe to numpy array(train data)\n",
    "dvec=DictVectorizer(sparse=False)\n",
    "x1=dvec.fit_transform(x.to_dict(orient='records'))\n",
    "x1=x1/255.0\n",
    "x1=x1.astype('float32')\n",
    "#print(x1)\n",
    "#print(x1.shape)\n",
    "#print(type(x1))\n",
    "\n",
    "#transfer y's type to categorical\n",
    "y1 = keras.utils.to_categorical(y, num_classes=10)\n",
    "#print(y1)\n",
    "\n",
    "x_train, x_test, y_train, y_test=train_test_split(x1, y1, random_state=1, train_size=0.8)\n",
    "print(x_train.shape, x_test.shape)"
   ]
  },
  {
   "cell_type": "code",
   "execution_count": 9,
   "metadata": {},
   "outputs": [
    {
     "name": "stdout",
     "output_type": "stream",
     "text": [
      "Model: \"sequential\"\n",
      "_________________________________________________________________\n",
      "Layer (type)                 Output Shape              Param #   \n",
      "=================================================================\n",
      "dense (Dense)                (None, 600)               471000    \n",
      "_________________________________________________________________\n",
      "dense_1 (Dense)              (None, 10)                6010      \n",
      "=================================================================\n",
      "Total params: 477,010\n",
      "Trainable params: 477,010\n",
      "Non-trainable params: 0\n",
      "_________________________________________________________________\n",
      "Epoch 1/20\n",
      "336/336 [==============================] - 3s 5ms/step - loss: 0.7887 - accuracy: 0.7939\n",
      "Epoch 2/20\n",
      "336/336 [==============================] - 2s 5ms/step - loss: 0.2868 - accuracy: 0.9206\n",
      "Epoch 3/20\n",
      "336/336 [==============================] - 2s 5ms/step - loss: 0.2322 - accuracy: 0.9360\n",
      "Epoch 4/20\n",
      "336/336 [==============================] - 2s 5ms/step - loss: 0.1888 - accuracy: 0.9477\n",
      "Epoch 5/20\n",
      "336/336 [==============================] - 2s 5ms/step - loss: 0.1564 - accuracy: 0.9579\n",
      "Epoch 6/20\n",
      "336/336 [==============================] - 2s 6ms/step - loss: 0.1392 - accuracy: 0.9626\n",
      "Epoch 7/20\n",
      "336/336 [==============================] - 2s 5ms/step - loss: 0.1246 - accuracy: 0.9671\n",
      "Epoch 8/20\n",
      "336/336 [==============================] - 2s 5ms/step - loss: 0.1111 - accuracy: 0.9713\n",
      "Epoch 9/20\n",
      "336/336 [==============================] - 2s 5ms/step - loss: 0.1003 - accuracy: 0.9739\n",
      "Epoch 10/20\n",
      "336/336 [==============================] - 2s 5ms/step - loss: 0.0895 - accuracy: 0.9764\n",
      "Epoch 11/20\n",
      "336/336 [==============================] - 2s 5ms/step - loss: 0.0810 - accuracy: 0.9797\n",
      "Epoch 12/20\n",
      "336/336 [==============================] - 2s 5ms/step - loss: 0.0762 - accuracy: 0.9810\n",
      "Epoch 13/20\n",
      "336/336 [==============================] - 2s 5ms/step - loss: 0.0702 - accuracy: 0.9819\n",
      "Epoch 14/20\n",
      "336/336 [==============================] - 2s 5ms/step - loss: 0.0640 - accuracy: 0.9842\n",
      "Epoch 15/20\n",
      "336/336 [==============================] - 2s 5ms/step - loss: 0.0582 - accuracy: 0.9859\n",
      "Epoch 16/20\n",
      "336/336 [==============================] - 2s 5ms/step - loss: 0.0537 - accuracy: 0.9881\n",
      "Epoch 17/20\n",
      "336/336 [==============================] - 2s 5ms/step - loss: 0.0526 - accuracy: 0.9875\n",
      "Epoch 18/20\n",
      "336/336 [==============================] - 2s 5ms/step - loss: 0.0471 - accuracy: 0.9896\n",
      "Epoch 19/20\n",
      "336/336 [==============================] - 2s 5ms/step - loss: 0.0435 - accuracy: 0.9900\n",
      "Epoch 20/20\n",
      "336/336 [==============================] - 2s 5ms/step - loss: 0.0412 - accuracy: 0.9909\n",
      "263/263 [==============================] - 1s 2ms/step - loss: 0.0875 - accuracy: 0.9736\n",
      "prediction acc: 0.9735714197158813\n"
     ]
    }
   ],
   "source": [
    "#DNN model\n",
    "model=Sequential()\n",
    "model.add(Dense(600, activation='relu', input_dim=28*28))\n",
    "model.add(Dense(10, activation='softmax'))\n",
    "model.summary()\n",
    "\n",
    "model.compile(loss='categorical_crossentropy', optimizer=SGD(lr=0.1), metrics=['accuracy'])\n",
    "\n",
    "model.fit(x_train, y_train, batch_size=100, epochs=20)\n",
    "\n",
    "result=model.evaluate(x_test, y_test)\n",
    "print('prediction acc:', result[1])"
   ]
  },
  {
   "cell_type": "code",
   "execution_count": 10,
   "metadata": {},
   "outputs": [
    {
     "name": "stdout",
     "output_type": "stream",
     "text": [
      "(8400, 10)\n",
      "(8400,)\n",
      "[1 5 2 8 4 4 0 4 4 8] \n",
      " [1 5 2 8 4 4 0 4 4 8]\n"
     ]
    }
   ],
   "source": [
    "y_prob=model.predict(x_test)\n",
    "print(y_prob.shape)\n",
    "\n",
    "y_predict=np.argmax(y_prob, axis=1)\n",
    "print(y_predict.shape)\n",
    "\n",
    "print(y_predict[0:10], '\\n', np.argmax(y_test, axis=1)[0:10])"
   ]
  },
  {
   "cell_type": "code",
   "execution_count": 11,
   "metadata": {},
   "outputs": [
    {
     "name": "stdout",
     "output_type": "stream",
     "text": [
      "Model: \"sequential_1\"\n",
      "_________________________________________________________________\n",
      "Layer (type)                 Output Shape              Param #   \n",
      "=================================================================\n",
      "conv2d (Conv2D)              (None, 28, 28, 25)        250       \n",
      "_________________________________________________________________\n",
      "max_pooling2d (MaxPooling2D) (None, 14, 14, 25)        0         \n",
      "_________________________________________________________________\n",
      "dropout (Dropout)            (None, 14, 14, 25)        0         \n",
      "_________________________________________________________________\n",
      "flatten (Flatten)            (None, 4900)              0         \n",
      "_________________________________________________________________\n",
      "dense_2 (Dense)              (None, 300)               1470300   \n",
      "_________________________________________________________________\n",
      "dense_3 (Dense)              (None, 10)                3010      \n",
      "=================================================================\n",
      "Total params: 1,473,560\n",
      "Trainable params: 1,473,560\n",
      "Non-trainable params: 0\n",
      "_________________________________________________________________\n",
      "Epoch 1/20\n",
      "336/336 [==============================] - 17s 50ms/step - loss: 0.8313 - accuracy: 0.7488\n",
      "Epoch 2/20\n",
      "336/336 [==============================] - 16s 49ms/step - loss: 0.2199 - accuracy: 0.9312\n",
      "Epoch 3/20\n",
      "336/336 [==============================] - 16s 49ms/step - loss: 0.1509 - accuracy: 0.9548\n",
      "Epoch 4/20\n",
      "336/336 [==============================] - 17s 51ms/step - loss: 0.1168 - accuracy: 0.9645\n",
      "Epoch 5/20\n",
      "336/336 [==============================] - 17s 51ms/step - loss: 0.0987 - accuracy: 0.9694\n",
      "Epoch 6/20\n",
      "336/336 [==============================] - 17s 50ms/step - loss: 0.0848 - accuracy: 0.9728\n",
      "Epoch 7/20\n",
      "336/336 [==============================] - 17s 51ms/step - loss: 0.0760 - accuracy: 0.9756\n",
      "Epoch 8/20\n",
      "336/336 [==============================] - 17s 51ms/step - loss: 0.0628 - accuracy: 0.9812\n",
      "Epoch 9/20\n",
      "336/336 [==============================] - 17s 49ms/step - loss: 0.0579 - accuracy: 0.9819\n",
      "Epoch 10/20\n",
      "336/336 [==============================] - 17s 49ms/step - loss: 0.0514 - accuracy: 0.9828\n",
      "Epoch 11/20\n",
      "336/336 [==============================] - 17s 50ms/step - loss: 0.0479 - accuracy: 0.9847\n",
      "Epoch 12/20\n",
      "336/336 [==============================] - 16s 49ms/step - loss: 0.0440 - accuracy: 0.9863\n",
      "Epoch 13/20\n",
      "336/336 [==============================] - 17s 50ms/step - loss: 0.0392 - accuracy: 0.9872\n",
      "Epoch 14/20\n",
      "336/336 [==============================] - 16s 47ms/step - loss: 0.0361 - accuracy: 0.9887\n",
      "Epoch 15/20\n",
      "336/336 [==============================] - 16s 48ms/step - loss: 0.0321 - accuracy: 0.9901\n",
      "Epoch 16/20\n",
      "336/336 [==============================] - 17s 50ms/step - loss: 0.0281 - accuracy: 0.9914\n",
      "Epoch 17/20\n",
      "336/336 [==============================] - 16s 48ms/step - loss: 0.0292 - accuracy: 0.9905\n",
      "Epoch 18/20\n",
      "336/336 [==============================] - 17s 50ms/step - loss: 0.0249 - accuracy: 0.9928\n",
      "Epoch 19/20\n",
      "336/336 [==============================] - 17s 50ms/step - loss: 0.0222 - accuracy: 0.9932\n",
      "Epoch 20/20\n",
      "336/336 [==============================] - 17s 51ms/step - loss: 0.0225 - accuracy: 0.9936\n",
      "263/263 [==============================] - 2s 6ms/step - loss: 0.0588 - accuracy: 0.9835\n",
      "prediction acc: 0.9834523797035217\n"
     ]
    }
   ],
   "source": [
    "#CNN model\n",
    "model2=Sequential()\n",
    "model2.add(Conv2D(filters=25, kernel_size=(3,3), padding='Same', activation='relu', input_shape=(28,28,1)))\n",
    "model2.add(MaxPooling2D(pool_size=(2,2)))\n",
    "model2.add(Dropout(0.25))\n",
    "\n",
    "model2.add(Flatten())\n",
    "model2.add(Dense(300, activation='relu'))\n",
    "model2.add(Dense(10, activation='softmax'))\n",
    "\n",
    "model2.summary()\n",
    "\n",
    "model2.compile(loss='categorical_crossentropy', optimizer=SGD(lr=0.1), metrics=['accuracy'])\n",
    "\n",
    "model2.fit(x_train.reshape(-1,28,28,1), y_train, batch_size=100, epochs=20)\n",
    "\n",
    "result2=model2.evaluate(x_test.reshape(-1,28,28,1), y_test)\n",
    "print('prediction acc:', result2[1])\n",
    "#x_train.reshape(-1,28,28,1)"
   ]
  },
  {
   "cell_type": "code",
   "execution_count": 12,
   "metadata": {
    "scrolled": true
   },
   "outputs": [
    {
     "name": "stdout",
     "output_type": "stream",
     "text": [
      "1.0\n",
      "(28000, 784)\n",
      "<class 'numpy.ndarray'>\n"
     ]
    }
   ],
   "source": [
    "#transfer dataframe to numpy array(test data)\n",
    "dvec=DictVectorizer(sparse=False)\n",
    "x_testdata=dvec.fit_transform(df_test.to_dict(orient='records'))\n",
    "x_testdata=x_testdata/255.0\n",
    "x_testdata=x_testdata.astype('float32')\n",
    "print(np.max(x_testdata[0]))\n",
    "print(x_testdata.shape)\n",
    "print(type(x_testdata))"
   ]
  },
  {
   "cell_type": "code",
   "execution_count": 13,
   "metadata": {},
   "outputs": [
    {
     "name": "stdout",
     "output_type": "stream",
     "text": [
      "(28000,)\n",
      "28000\n",
      "   ImageId  Label\n",
      "0        1      2\n",
      "1        2      0\n",
      "2        3      9\n",
      "3        4      9\n",
      "4        5      3\n"
     ]
    }
   ],
   "source": [
    "#prediction of test data (model: DNN)\n",
    "y_testdata_predict=model.predict(x_testdata)\n",
    "y_testdata_predict=np.argmax(y_testdata_predict, axis=1)\n",
    "\n",
    "print(y_testdata_predict.shape)\n",
    "\n",
    "print(df_test.shape[0])\n",
    "\n",
    "output1=pd.DataFrame({\n",
    "    'ImageId':np.arange(1, df_test.shape[0]+1),\n",
    "    'Label':y_testdata_predict\n",
    "})\n",
    "\n",
    "print(output1.head(5))\n",
    "output1.to_csv(\"C:/Users/user/workspace/data/digit-recognizer/submission_DNN.csv\", index=False)"
   ]
  },
  {
   "cell_type": "code",
   "execution_count": 14,
   "metadata": {},
   "outputs": [
    {
     "name": "stdout",
     "output_type": "stream",
     "text": [
      "(28000,)\n",
      "28000\n",
      "   ImageId  Label\n",
      "0        1      2\n",
      "1        2      0\n",
      "2        3      9\n",
      "3        4      9\n",
      "4        5      3\n"
     ]
    }
   ],
   "source": [
    "#prediction of test data(model2: CNN)\n",
    "y_testdata_predict2=model2.predict(x_testdata.reshape(-1,28,28,1))\n",
    "y_testdata_predict2=np.argmax(y_testdata_predict2, axis=1)\n",
    "\n",
    "print(y_testdata_predict2.shape)\n",
    "\n",
    "print(df_test.shape[0])\n",
    "\n",
    "output2=pd.DataFrame({\n",
    "    'ImageId':np.arange(1, df_test.shape[0]+1),\n",
    "    'Label':y_testdata_predict2\n",
    "})\n",
    "\n",
    "print(output2.head(5))\n",
    "output2.to_csv(\"C:/Users/user/workspace/data/digit-recognizer/submission_CNN.csv\", index=False)"
   ]
  }
 ],
 "metadata": {
  "kernelspec": {
   "display_name": "Python 3",
   "language": "python",
   "name": "python3"
  },
  "language_info": {
   "codemirror_mode": {
    "name": "ipython",
    "version": 3
   },
   "file_extension": ".py",
   "mimetype": "text/x-python",
   "name": "python",
   "nbconvert_exporter": "python",
   "pygments_lexer": "ipython3",
   "version": "3.8.5"
  }
 },
 "nbformat": 4,
 "nbformat_minor": 4
}
